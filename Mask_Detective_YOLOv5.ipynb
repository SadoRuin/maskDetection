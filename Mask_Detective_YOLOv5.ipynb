{
  "nbformat": 4,
  "nbformat_minor": 0,
  "metadata": {
    "colab": {
      "name": "Mask Detective YOLOv5.ipynb",
      "private_outputs": true,
      "provenance": [],
      "collapsed_sections": [],
      "toc_visible": true,
      "mount_file_id": "13WpPXjXoDGukIGC26dZO1kSN4SxG1YbU",
      "authorship_tag": "ABX9TyNgH4imZZ79+TbUgNT5xklu",
      "include_colab_link": true
    },
    "kernelspec": {
      "name": "python3",
      "display_name": "Python 3"
    },
    "language_info": {
      "name": "python"
    },
    "accelerator": "GPU"
  },
  "cells": [
    {
      "cell_type": "markdown",
      "metadata": {
        "id": "view-in-github",
        "colab_type": "text"
      },
      "source": [
        "<a href=\"https://colab.research.google.com/github/SadoRuin/maskDetective/blob/yolo/Mask_Detective_YOLOv5.ipynb\" target=\"_parent\"><img src=\"https://colab.research.google.com/assets/colab-badge.svg\" alt=\"Open In Colab\"/></a>"
      ]
    },
    {
      "cell_type": "markdown",
      "metadata": {
        "id": "fIkvpYkVc_Oq"
      },
      "source": [
        "# Setting Dataset and YOLOv5"
      ]
    },
    {
      "cell_type": "markdown",
      "metadata": {
        "id": "-gNiqngT8adZ"
      },
      "source": [
        "Upload from local (kaggle.json)"
      ]
    },
    {
      "cell_type": "code",
      "metadata": {
        "id": "nBa3Trw8cDW-"
      },
      "source": [
        "# !pip install kaggle\n",
        "# from google.colab import files\n",
        "# files.upload()"
      ],
      "execution_count": null,
      "outputs": []
    },
    {
      "cell_type": "markdown",
      "metadata": {
        "id": "yPyt_Ups8faQ"
      },
      "source": [
        "Copy from GoogleDrive (kaggle.json)"
      ]
    },
    {
      "cell_type": "code",
      "metadata": {
        "id": "DHxyhqTBq2XO"
      },
      "source": [
        "!cp /content/drive/MyDrive/kaggle/kaggle.json /content/"
      ],
      "execution_count": null,
      "outputs": []
    },
    {
      "cell_type": "code",
      "metadata": {
        "id": "ofNkMF9wcF-_"
      },
      "source": [
        "!mkdir -p ~/.kaggle\n",
        "!cp kaggle.json ~/.kaggle/\n",
        "!chmod 600 ~/.kaggle/kaggle.json\n",
        "!kaggle competitions list"
      ],
      "execution_count": null,
      "outputs": []
    },
    {
      "cell_type": "code",
      "metadata": {
        "id": "QD2854oHcJnO"
      },
      "source": [
        "%ls"
      ],
      "execution_count": null,
      "outputs": []
    },
    {
      "cell_type": "markdown",
      "metadata": {
        "id": "2KdU96Db8xig"
      },
      "source": [
        "Download Dataset from kaggle"
      ]
    },
    {
      "cell_type": "code",
      "metadata": {
        "id": "xUWVqvMZcMsa"
      },
      "source": [
        "!kaggle datasets download -d andrewmvd/face-mask-detection\n",
        "%ls"
      ],
      "execution_count": null,
      "outputs": []
    },
    {
      "cell_type": "code",
      "metadata": {
        "id": "a9hOMpb4cPMo"
      },
      "source": [
        "!unzip face-mask-detection.zip"
      ],
      "execution_count": null,
      "outputs": []
    },
    {
      "cell_type": "markdown",
      "metadata": {
        "id": "XyKntIuz83q3"
      },
      "source": [
        "Setup YOLOv5"
      ]
    },
    {
      "cell_type": "code",
      "metadata": {
        "id": "Wn5d8XAYcSdZ"
      },
      "source": [
        "!git clone https://github.com/ultralytics/yolov5\n",
        "%cd yolov5\n",
        "%pip install -qr requirements.txt"
      ],
      "execution_count": null,
      "outputs": []
    },
    {
      "cell_type": "code",
      "metadata": {
        "id": "Jky_KiJmcVwN"
      },
      "source": [
        "import torch\n",
        "from IPython.display import Image, clear_output  # to display images\n",
        "\n",
        "clear_output()\n",
        "print('Setup complete. Using torch %s %s' % (torch.__version__, torch.cuda.get_device_properties(0) if torch.cuda.is_available() else 'CPU'))"
      ],
      "execution_count": null,
      "outputs": []
    },
    {
      "cell_type": "code",
      "metadata": {
        "id": "U2uDf1oAf93X"
      },
      "source": [
        "!wget https://github.com/ultralytics/yolov5/releases/download/v5.0/yolov5s.pt\n",
        "!wget https://github.com/ultralytics/yolov5/releases/download/v5.0/yolov5m.pt\n",
        "!wget https://github.com/ultralytics/yolov5/releases/download/v5.0/yolov5l.pt\n",
        "!wget https://github.com/ultralytics/yolov5/releases/download/v5.0/yolov5x.pt"
      ],
      "execution_count": null,
      "outputs": []
    },
    {
      "cell_type": "code",
      "metadata": {
        "id": "u5xOMSNzcaBa"
      },
      "source": [
        "%ls"
      ],
      "execution_count": null,
      "outputs": []
    },
    {
      "cell_type": "code",
      "metadata": {
        "id": "bKovLIn7cizw"
      },
      "source": [
        "!mkdir -p dataset/mask/images\n",
        "!mkdir -p dataset/mask/labels"
      ],
      "execution_count": null,
      "outputs": []
    },
    {
      "cell_type": "code",
      "metadata": {
        "id": "LfOchIx8ct41"
      },
      "source": [
        "!cp -rf ../images/* dataset/mask/images"
      ],
      "execution_count": null,
      "outputs": []
    },
    {
      "cell_type": "code",
      "metadata": {
        "id": "IOPyM56cc4Nv"
      },
      "source": [
        "!mkdir -p dataset/images dataset/labels"
      ],
      "execution_count": null,
      "outputs": []
    },
    {
      "cell_type": "markdown",
      "metadata": {
        "id": "rE9GjHX6dkU8"
      },
      "source": [
        "# Convert Labels"
      ]
    },
    {
      "cell_type": "code",
      "metadata": {
        "id": "a3GaMP1Lc8xw"
      },
      "source": [
        "import os\n",
        "import numpy as np\n",
        "from pathlib import Path\n",
        "from xml.dom.minidom import parse\n",
        "from shutil import copyfile"
      ],
      "execution_count": null,
      "outputs": []
    },
    {
      "cell_type": "code",
      "metadata": {
        "id": "CyprP7-uduaC"
      },
      "source": [
        "FILE_ROOT = \"../\"\n",
        "IMAGE_PATH = FILE_ROOT + \"images\"  \n",
        "ANNOTATIONS_PATH = FILE_ROOT + \"annotations\"\n",
        "\n",
        "DATA_ROOT = \"dataset/\"\n",
        "LABELS_ROOT = DATA_ROOT + \"mask/labels\"\n",
        "IMAGES_ROOT = DATA_ROOT + \"mask/images\"  \n",
        "\n",
        "DEST_IMAGES_PATH = \"images\"\n",
        "DEST_LABELS_PATH = \"labels\" "
      ],
      "execution_count": null,
      "outputs": []
    },
    {
      "cell_type": "code",
      "metadata": {
        "id": "qZPPscFyd68s"
      },
      "source": [
        "classes = ['with_mask', 'without_mask', 'mask_weared_incorrect']"
      ],
      "execution_count": null,
      "outputs": []
    },
    {
      "cell_type": "code",
      "metadata": {
        "id": "J6j8lUpVd8kD"
      },
      "source": [
        "def cord_converter(size, box):\n",
        "    \"\"\"\n",
        "    convert xml annotation to darknet format coordinates\n",
        "    :param size： [w,h]\n",
        "    :param box: anchor box coordinates [upper-left x,uppler-left y,lower-right x, lower-right y]\n",
        "    :return: converted [x,y,w,h]\n",
        "    \"\"\"\n",
        "    x1 = int(box[0])\n",
        "    y1 = int(box[1])\n",
        "    x2 = int(box[2])\n",
        "    y2 = int(box[3])\n",
        "\n",
        "    dw = np.float32(1. / int(size[0]))\n",
        "    dh = np.float32(1. / int(size[1]))\n",
        "\n",
        "    w = x2 - x1\n",
        "    h = y2 - y1\n",
        "    x = x1 + (w / 2)\n",
        "    y = y1 + (h / 2)\n",
        "\n",
        "    x = x * dw\n",
        "    w = w * dw\n",
        "    y = y * dh\n",
        "    h = h * dh\n",
        "    return [x, y, w, h]\n",
        "\n",
        "def save_file(img_jpg_file_name, size, img_box):\n",
        "    save_file_name = LABELS_ROOT + '/' + img_jpg_file_name + '.txt'\n",
        "    print(save_file_name)\n",
        "    file_path = open(save_file_name, \"a+\")\n",
        "    for box in img_box:\n",
        "\n",
        "        cls_num = classes.index(box[0])\n",
        "\n",
        "        new_box = cord_converter(size, box[1:])\n",
        "\n",
        "        file_path.write(f\"{cls_num} {new_box[0]} {new_box[1]} {new_box[2]} {new_box[3]}\\n\")\n",
        "\n",
        "    file_path.flush()\n",
        "    file_path.close()\n",
        "    \n",
        "def get_xml_data(file_path, img_xml_file):\n",
        "    img_path = file_path + '/' + img_xml_file + '.xml'\n",
        "    print(img_path)\n",
        "\n",
        "    dom = parse(img_path)\n",
        "    root = dom.documentElement\n",
        "    img_name = root.getElementsByTagName(\"filename\")[0].childNodes[0].data\n",
        "    img_size = root.getElementsByTagName(\"size\")[0]\n",
        "    objects = root.getElementsByTagName(\"object\")\n",
        "    img_w = img_size.getElementsByTagName(\"width\")[0].childNodes[0].data\n",
        "    img_h = img_size.getElementsByTagName(\"height\")[0].childNodes[0].data\n",
        "    img_c = img_size.getElementsByTagName(\"depth\")[0].childNodes[0].data\n",
        "    # print(\"img_name:\", img_name)\n",
        "    # print(\"image_info:(w,h,c)\", img_w, img_h, img_c)\n",
        "    img_box = []\n",
        "    for box in objects:\n",
        "        cls_name = box.getElementsByTagName(\"name\")[0].childNodes[0].data\n",
        "        x1 = int(box.getElementsByTagName(\"xmin\")[0].childNodes[0].data)\n",
        "        y1 = int(box.getElementsByTagName(\"ymin\")[0].childNodes[0].data)\n",
        "        x2 = int(box.getElementsByTagName(\"xmax\")[0].childNodes[0].data)\n",
        "        y2 = int(box.getElementsByTagName(\"ymax\")[0].childNodes[0].data)\n",
        "        # print(\"box:(c,xmin,ymin,xmax,ymax)\", cls_name, x1, y1, x2, y2)\n",
        "        img_jpg_file_name = img_xml_file + '.jpg'\n",
        "        img_box.append([cls_name, x1, y1, x2, y2])\n",
        "    # print(img_box)\n",
        "\n",
        "    # test_dataset_box_feature(img_jpg_file_name, img_box)\n",
        "    save_file(img_xml_file, [img_w, img_h], img_box)"
      ],
      "execution_count": null,
      "outputs": []
    },
    {
      "cell_type": "code",
      "metadata": {
        "id": "soXSNUe3eX07"
      },
      "source": [
        "files = os.listdir(ANNOTATIONS_PATH)\n",
        "for file in files:\n",
        "    print(\"file name: \", file)\n",
        "    file_xml = file.split(\".\")\n",
        "    get_xml_data(ANNOTATIONS_PATH, file_xml[0])"
      ],
      "execution_count": null,
      "outputs": []
    },
    {
      "cell_type": "markdown",
      "metadata": {
        "id": "u5x3YP97ehQ1"
      },
      "source": [
        "# Split Images Dataset"
      ]
    },
    {
      "cell_type": "markdown",
      "metadata": {
        "id": "7-yOoXGP3kq7"
      },
      "source": [
        "Make Test Dataset"
      ]
    },
    {
      "cell_type": "code",
      "metadata": {
        "id": "6-9ge4KieZob"
      },
      "source": [
        "# from sklearn.model_selection import train_test_split\n",
        "# image_list = os.listdir('dataset/mask/images')\n",
        "# train_list, test_list = train_test_split(image_list, test_size=0.2, random_state=7)\n",
        "# val_list, test_list = train_test_split(test_list, test_size=0.5, random_state=8)\n",
        "\n",
        "# print('total =',len(image_list))\n",
        "# print('train :',len(train_list))\n",
        "# print('val   :',len(val_list))\n",
        "# print('test  :',len(test_list))"
      ],
      "execution_count": null,
      "outputs": []
    },
    {
      "cell_type": "markdown",
      "metadata": {
        "id": "D97FZP2_3ze2"
      },
      "source": [
        "None Test Dataset"
      ]
    },
    {
      "cell_type": "code",
      "metadata": {
        "id": "f2ScBmtw3iSt"
      },
      "source": [
        "from sklearn.model_selection import train_test_split\n",
        "image_list = os.listdir('dataset/mask/images')\n",
        "train_list, val_list = train_test_split(image_list, test_size=0.1, random_state=7)\n",
        "test_list = []\n",
        "\n",
        "print('total =',len(image_list))\n",
        "print('train :',len(train_list))\n",
        "print('val   :',len(val_list))\n",
        "print('test  :',len(test_list))"
      ],
      "execution_count": null,
      "outputs": []
    },
    {
      "cell_type": "code",
      "metadata": {
        "id": "yfO_z0v4emLt"
      },
      "source": [
        "def copy_data(file_list, img_labels_root, imgs_source, type):\n",
        "\n",
        "    root_file = Path(DATA_ROOT + DEST_IMAGES_PATH + '/' + type)\n",
        "    if not root_file.exists():\n",
        "        print(f\"Path {root_file} is not exit\")\n",
        "        os.makedirs(root_file)\n",
        "\n",
        "    root_file = Path(DATA_ROOT + DEST_LABELS_PATH + '/' + type)\n",
        "    if not root_file.exists():\n",
        "        print(f\"Path {root_file} is not exit\")\n",
        "        os.makedirs(root_file)\n",
        "\n",
        "    for file in file_list:\n",
        "        img_name = file.replace('.png', '')\n",
        "        img_src_file = imgs_source + '/' + img_name + '.png'\n",
        "        label_src_file = img_labels_root + '/' + img_name + '.txt'\n",
        "\n",
        "        # print(img_sor_file)\n",
        "        # print(label_sor_file)\n",
        "        # im = Image.open(rf\"{img_sor_file}\")\n",
        "        # im.show()\n",
        "\n",
        "        # Copy image\n",
        "        DICT_DIR = DATA_ROOT + DEST_IMAGES_PATH + '/' + type\n",
        "        img_dict_file = DICT_DIR + '/' + img_name + '.png'\n",
        "\n",
        "        copyfile(img_src_file, img_dict_file)\n",
        "\n",
        "        # Copy label\n",
        "        DICT_DIR = DATA_ROOT + DEST_LABELS_PATH + '/' + type\n",
        "        img_dict_file = DICT_DIR + '/' + img_name + '.txt'\n",
        "        copyfile(label_src_file, img_dict_file)"
      ],
      "execution_count": null,
      "outputs": []
    },
    {
      "cell_type": "code",
      "metadata": {
        "id": "V2xYLf5YeuGm"
      },
      "source": [
        "copy_data(train_list, LABELS_ROOT, IMAGES_ROOT, \"train\")\n",
        "copy_data(val_list,   LABELS_ROOT, IMAGES_ROOT, \"val\")\n",
        "copy_data(test_list,  LABELS_ROOT, IMAGES_ROOT, \"test\") if len(test_list) else None"
      ],
      "execution_count": null,
      "outputs": []
    },
    {
      "cell_type": "markdown",
      "metadata": {
        "id": "v6MyM_m_e0Y7"
      },
      "source": [
        "# Create maskDetective.yaml"
      ]
    },
    {
      "cell_type": "code",
      "metadata": {
        "id": "yBVHLAoXeveY"
      },
      "source": [
        "!echo \"train: dataset/images/train\" > data/maskDetective.yaml\n",
        "!echo \"\" >> data/maskDetective.yaml\n",
        "!echo \"val:   dataset/images/val\" >> data/maskDetective.yaml\n",
        "!echo \"\" >> data/maskDetective.yaml\n",
        "!echo \"nc : 3\" >> data/maskDetective.yaml\n",
        "!echo \"\" >> data/maskDetective.yaml\n",
        "!echo \"names: ['With_Mask', 'Without_Mask', 'Worn_Incorrectly']\" >> data/maskDetective.yaml\n",
        "!echo \"\" >> data/maskDetective.yaml\n",
        "\n",
        "!cat data/maskDetective.yaml"
      ],
      "execution_count": null,
      "outputs": []
    },
    {
      "cell_type": "markdown",
      "metadata": {
        "id": "2EG9N6nyfy6-"
      },
      "source": [
        "# Train YOLOv5"
      ]
    },
    {
      "cell_type": "code",
      "metadata": {
        "id": "VBKo7WNgfifY"
      },
      "source": [
        "!python train.py --img 320 --batch 64 --epochs 500 --data data/maskDetective.yaml --cfg models/yolov5l.yaml --weights yolov5l.pt"
      ],
      "execution_count": null,
      "outputs": []
    },
    {
      "cell_type": "markdown",
      "metadata": {
        "id": "fH4kb1Q-8OVt"
      },
      "source": [
        "# Save Result"
      ]
    },
    {
      "cell_type": "code",
      "metadata": {
        "id": "g95u7tYvpTmR"
      },
      "source": [
        "!zip -r /content/exp.zip runs/train/exp/*"
      ],
      "execution_count": null,
      "outputs": []
    },
    {
      "cell_type": "code",
      "metadata": {
        "id": "qsl7fstqskkF"
      },
      "source": [
        "!cp /content/exp.zip /content/drive/MyDrive/"
      ],
      "execution_count": null,
      "outputs": []
    }
  ]
}